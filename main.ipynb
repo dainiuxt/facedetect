{
 "cells": [
  {
   "cell_type": "code",
   "execution_count": null,
   "id": "24f21ea8-9695-4dc7-870b-2ca8f522db42",
   "metadata": {},
   "outputs": [],
   "source": [
    "https://thecleverprogrammer.com/2020/10/09/face-detection-with-python/\n",
    "\n",
    "https://pyimagesearch.com/2020/04/13/opencv-age-detection-with-deep-learning/\n",
    "https://www.thepythoncode.com/article/predict-age-using-opencv"
   ]
  },
  {
   "cell_type": "code",
   "execution_count": 7,
   "id": "9548d4f9-08b2-49ef-a2b8-c4c637586d7f",
   "metadata": {},
   "outputs": [
    {
     "name": "stdout",
     "output_type": "stream",
     "text": [
      "Successfully saved\n"
     ]
    }
   ],
   "source": [
    "import cv2\n",
    "\n",
    "face_cascade = cv2.CascadeClassifier('frontalface.xml')\n",
    "img = cv2.imread('people.jpg')\n",
    "faces = face_cascade.detectMultiScale(img, 9, 1)\n",
    "\n",
    "for (x, y, w, h) in faces: \n",
    "  cv2.rectangle(img, (x, y), (x+w, y+h), (255, 0, 0), 2)\n",
    "cv2.imwrite(\"people_detected.png\", img) \n",
    "print('Successfully saved')"
   ]
  },
  {
   "cell_type": "code",
   "execution_count": 9,
   "id": "bd3c6343-a66a-4360-ac15-5ce7e48d3515",
   "metadata": {},
   "outputs": [
    {
     "name": "stdout",
     "output_type": "stream",
     "text": [
      "Successfully saved\n"
     ]
    }
   ],
   "source": [
    "import cv2\n",
    "\n",
    "face_cascade = cv2.CascadeClassifier('frontalface.xml')\n",
    "img = cv2.imread('feisas.png')\n",
    "faces = face_cascade.detectMultiScale(img, 2, 1)\n",
    "\n",
    "for (x, y, w, h) in faces: \n",
    "  cv2.rectangle(img, (x, y), (x+w, y+h), (255, 0, 0), 2)\n",
    "cv2.imwrite(\"feisas_detected.png\", img) \n",
    "print('Successfully saved')"
   ]
  },
  {
   "cell_type": "code",
   "execution_count": 10,
   "id": "bc454a06-ac33-4805-a663-9e59cd0c65a4",
   "metadata": {},
   "outputs": [
    {
     "name": "stdout",
     "output_type": "stream",
     "text": [
      "Successfully saved\n"
     ]
    }
   ],
   "source": [
    "import cv2\n",
    "\n",
    "face_cascade = cv2.CascadeClassifier('frontalface.xml')\n",
    "img = cv2.imread('gryb.jpg')\n",
    "faces = face_cascade.detectMultiScale(img, 2, 1)\n",
    "\n",
    "for (x, y, w, h) in faces: \n",
    "  cv2.rectangle(img, (x, y), (x+w, y+h), (255, 0, 0), 2)\n",
    "cv2.imwrite(\"gryb_detected.png\", img) \n",
    "print('Successfully saved')"
   ]
  },
  {
   "cell_type": "code",
   "execution_count": 11,
   "id": "31e49844-a38e-4d88-8733-8f289bd2e4d1",
   "metadata": {},
   "outputs": [
    {
     "name": "stdout",
     "output_type": "stream",
     "text": [
      "Successfully saved\n"
     ]
    }
   ],
   "source": [
    "import cv2\n",
    "\n",
    "face_cascade = cv2.CascadeClassifier('frontalface.xml')\n",
    "img = cv2.imread('donatas.png')\n",
    "faces = face_cascade.detectMultiScale(img, 2, 1)\n",
    "\n",
    "for (x, y, w, h) in faces: \n",
    "  cv2.rectangle(img, (x, y), (x+w, y+h), (255, 0, 0), 2)\n",
    "cv2.imwrite(\"donatas_detected.png\", img) \n",
    "print('Successfully saved')"
   ]
  },
  {
   "cell_type": "code",
   "execution_count": 12,
   "id": "804dc7d8-4b77-4609-9b20-96a054831b2d",
   "metadata": {},
   "outputs": [
    {
     "name": "stdout",
     "output_type": "stream",
     "text": [
      "Successfully saved\n"
     ]
    }
   ],
   "source": [
    "import cv2\n",
    "\n",
    "face_cascade = cv2.CascadeClassifier('frontalface.xml')\n",
    "img = cv2.imread('avatar.jpeg')\n",
    "faces = face_cascade.detectMultiScale(img, 2, 1)\n",
    "\n",
    "for (x, y, w, h) in faces: \n",
    "  cv2.rectangle(img, (x, y), (x+w, y+h), (255, 0, 0), 2)\n",
    "cv2.imwrite(\"avatar_detected.png\", img) \n",
    "print('Successfully saved')"
   ]
  },
  {
   "cell_type": "code",
   "execution_count": null,
   "id": "42fed5ca-8b89-48ff-bf77-4b0d57c0d6d0",
   "metadata": {},
   "outputs": [],
   "source": []
  }
 ],
 "metadata": {
  "kernelspec": {
   "display_name": "Python 3 (ipykernel)",
   "language": "python",
   "name": "python3"
  },
  "language_info": {
   "codemirror_mode": {
    "name": "ipython",
    "version": 3
   },
   "file_extension": ".py",
   "mimetype": "text/x-python",
   "name": "python",
   "nbconvert_exporter": "python",
   "pygments_lexer": "ipython3",
   "version": "3.8.10"
  }
 },
 "nbformat": 4,
 "nbformat_minor": 5
}
